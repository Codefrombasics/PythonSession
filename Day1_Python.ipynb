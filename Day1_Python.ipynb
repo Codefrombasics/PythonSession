{
  "nbformat": 4,
  "nbformat_minor": 0,
  "metadata": {
    "colab": {
      "provenance": [],
      "authorship_tag": "ABX9TyM1srqVTFmZPOl7qyI2VTZa"
    },
    "kernelspec": {
      "name": "python3",
      "display_name": "Python 3"
    },
    "language_info": {
      "name": "python"
    }
  },
  "cells": [
    {
      "cell_type": "code",
      "execution_count": 1,
      "metadata": {
        "colab": {
          "base_uri": "https://localhost:8080/"
        },
        "id": "ej2Ie9iv1PYj",
        "outputId": "53243c49-a7d3-4604-b717-50e858776c08"
      },
      "outputs": [
        {
          "output_type": "stream",
          "name": "stdout",
          "text": [
            "Welcome to Code From Basics\n"
          ]
        }
      ],
      "source": [
        "print(\"Welcome to Code From Basics\")"
      ]
    },
    {
      "cell_type": "markdown",
      "source": [
        "## **Featurs of Python**\n",
        "\n",
        "1. Easy to Learn\n",
        "2. Open source\n",
        "3. Dynamically Typed\n",
        "4. Pure Object Oriented Programming\n",
        "5. GUI Programming\n",
        "6. Rich Library in various fields\n",
        "7. Good Performance\n",
        "8. Platform Independent(Cross Platform)\n",
        "9. Community\n",
        "10. Interpreted"
      ],
      "metadata": {
        "id": "L8wieM7v1YWQ"
      }
    },
    {
      "cell_type": "code",
      "source": [
        "num=10\n",
        "a=10\n",
        "print(num)\n",
        "\n",
        "# dynamically types\n",
        "\n",
        "# Data Analyst\n",
        "# Data Engineer\n",
        "# ML Engineer\n",
        "# Data Scientist\n",
        "# Web Developer\n",
        "# AI Engineer\n",
        "# Image processing\n",
        "# Devops\n",
        "# ETL\n",
        "\n"
      ],
      "metadata": {
        "colab": {
          "base_uri": "https://localhost:8080/",
          "height": 108
        },
        "id": "lHbtQFli1dRm",
        "outputId": "b36e8135-eae9-4566-d21e-50a509a0661f"
      },
      "execution_count": 1,
      "outputs": [
        {
          "output_type": "error",
          "ename": "SyntaxError",
          "evalue": "invalid syntax (<ipython-input-1-438ad1ea5948>, line 5)",
          "traceback": [
            "\u001b[0;36m  File \u001b[0;32m\"<ipython-input-1-438ad1ea5948>\"\u001b[0;36m, line \u001b[0;32m5\u001b[0m\n\u001b[0;31m    dynamically types\u001b[0m\n\u001b[0m                ^\u001b[0m\n\u001b[0;31mSyntaxError\u001b[0m\u001b[0;31m:\u001b[0m invalid syntax\n"
          ]
        }
      ]
    },
    {
      "cell_type": "markdown",
      "source": [
        "## Operators in Python\n",
        "1. Arithmetic Operator\n",
        "2. Relational Operator\n",
        "3. Bitwise Operator\n",
        "4. Assignment Operator\n",
        "5. Membership Operator\n",
        "6. Identity Operator\n",
        "7. Logical Operator"
      ],
      "metadata": {
        "id": "IkObWLoMEc6g"
      }
    },
    {
      "cell_type": "code",
      "source": [
        " # Arithmetic Operator\n",
        "\n",
        " num1=10\n",
        " num2=3\n",
        " print(num1,\"+\",num2,\"=\",num1+num2)\n",
        " print(num1,\"-\",num2,\"=\",num1-num2)\n",
        " print(num1,\"*\",num2,\"=\",num1*num2)\n",
        " print(num1,\"/\",num2,\"=\",num1/num2)\n",
        " print(num1,\"//\",num2,\"=\",num1//num2)#floor division only quotient (without decimal)\n",
        " print(num1,\"%\",num2,\"=\",num1%num2)#reminder\n",
        " print(num1,\"**\",num2,\"=\",num1**num2)#exp\n"
      ],
      "metadata": {
        "colab": {
          "base_uri": "https://localhost:8080/"
        },
        "id": "jSgH9Z7qEa5s",
        "outputId": "435dee04-736a-43d9-d4ed-5a3c01990012"
      },
      "execution_count": 4,
      "outputs": [
        {
          "output_type": "stream",
          "name": "stdout",
          "text": [
            "10 + 3 = 13\n",
            "10 - 3 = 7\n",
            "10 * 3 = 30\n",
            "10 / 3 = 3.3333333333333335\n",
            "10 // 3 = 3\n",
            "10 % 3 = 1\n",
            "10 ** 3 = 1000\n"
          ]
        }
      ]
    },
    {
      "cell_type": "code",
      "source": [
        "#Relational Operator\n",
        "\n",
        "print(num1,\"<\",num2,\"=\",num1<num2)\n",
        "print(num1,\"<=\",num2,\"=\",num1<=num2)\n",
        "print(num1,\">\",num2,\"=\",num1>num2)\n",
        "print(num1,\">=\",num2,\"=\",num1>=num2)\n",
        "print(num1,\"==\",num2,\"=\",num1==num2)\n",
        "print(num1,\"!=\",num2,\"=\",num1!=num2)"
      ],
      "metadata": {
        "colab": {
          "base_uri": "https://localhost:8080/"
        },
        "id": "xsSuzi13FDMl",
        "outputId": "3eb3e0fc-841d-442a-c4ee-e1e2bddf1bde"
      },
      "execution_count": 5,
      "outputs": [
        {
          "output_type": "stream",
          "name": "stdout",
          "text": [
            "10 < 3 = False\n",
            "10 <= 3 = False\n",
            "10 > 3 = True\n",
            "10 >= 3 = True\n",
            "10 == 3 = False\n",
            "10 != 3 = True\n"
          ]
        }
      ]
    },
    {
      "cell_type": "code",
      "source": [
        "#Bitwise operator\n",
        "print(~num1)#negative of the next number\n",
        "print(num1<<2)\n"
      ],
      "metadata": {
        "colab": {
          "base_uri": "https://localhost:8080/"
        },
        "id": "H07UjbEWHIcJ",
        "outputId": "9297c2a4-fff4-4324-d702-366ab17eda6d"
      },
      "execution_count": 7,
      "outputs": [
        {
          "output_type": "stream",
          "name": "stdout",
          "text": [
            "-11\n",
            "40\n"
          ]
        }
      ]
    },
    {
      "cell_type": "code",
      "source": [
        "# Assignment operator\n",
        "\n",
        "acctBalance=1000\n",
        "#deposit 500 rupees into the account\n",
        "acctBalance+=500 #new value of acctBalance is 1500 acctBalance+=500\n",
        "print(\"After depositing 500 Rs\",acctBalance)\n",
        "\n",
        "#withdraw 100 Rupees\n",
        "acctBalance-=100\n",
        "print(\"After withdrawing 100 Rs\",acctBalance)\n",
        "\n",
        "#getting interest of 10%\n",
        "\n",
        "acctBalance*=1.10\n",
        "print(\"After getting interest\",acctBalance)\n",
        "\n",
        "#\n",
        "acctBalance/=2\n",
        "print(\"After paying loan\",acctBalance)"
      ],
      "metadata": {
        "colab": {
          "base_uri": "https://localhost:8080/"
        },
        "id": "WVxvC4l2HOdG",
        "outputId": "7833520e-ccbd-49cc-a5d6-9356d449ef00"
      },
      "execution_count": 12,
      "outputs": [
        {
          "output_type": "stream",
          "name": "stdout",
          "text": [
            "After depositing 500 Rs 1500\n",
            "After withdrawing 100 Rs 1400\n",
            "After getting interest 1540.0000000000002\n",
            "After paying loan 770.0000000000001\n"
          ]
        }
      ]
    },
    {
      "cell_type": "code",
      "source": [
        "# membership operator- re\n",
        "\n",
        "friends=['Hari','Vishnu','John']\n",
        "print('Hari' in friends)#True\n",
        "print('Hari' not in friends)#False\n",
        "print('Dinesh' not in friends)\n",
        "print('an' in 'I love Python Programming an Python programming is easy')"
      ],
      "metadata": {
        "colab": {
          "base_uri": "https://localhost:8080/"
        },
        "id": "KlSvubqTIIaw",
        "outputId": "56aceb33-376c-4eea-8468-1fca9eb1fef5"
      },
      "execution_count": 3,
      "outputs": [
        {
          "output_type": "stream",
          "name": "stdout",
          "text": [
            "True\n",
            "False\n",
            "True\n",
            "True\n"
          ]
        }
      ]
    },
    {
      "cell_type": "code",
      "source": [
        "# identity operator\n",
        "val1=10\n",
        "val2='10'\n",
        "val3=9\n",
        "print(val1)\n",
        "print(id(val1))\n",
        "print(id(val2))\n",
        "print(val1 is val2)#returns True if both are avaialable in same memory\n",
        "print(val1 is not val2)#return False if both are not available in same memory\n",
        "print(val1 is val3)\n",
        "print(val1 is not val3)"
      ],
      "metadata": {
        "colab": {
          "base_uri": "https://localhost:8080/"
        },
        "id": "9s_HJ9SUJgeO",
        "outputId": "4a3fcc4c-777f-44c0-b626-283a15b92680"
      },
      "execution_count": 11,
      "outputs": [
        {
          "output_type": "stream",
          "name": "stdout",
          "text": [
            "10\n",
            "140075145576976\n",
            "140075138176624\n",
            "False\n",
            "True\n",
            "False\n",
            "True\n"
          ]
        }
      ]
    },
    {
      "cell_type": "code",
      "source": [
        "# Logical operator and or not\n",
        "# and both condition must be true, then output is true\n",
        "# print(True and True)# true\n",
        "# print(True and False)\n",
        "# print(False and True)\n",
        "# print(False and False)\n",
        "\n",
        "print(7>3 and 6>3)# true\n",
        "print(7>4 and 6>7)# false\n",
        "# print(False and True)\n",
        "# print(False and False)\n",
        "\n",
        "print(7>3 or 6>3)# true\n",
        "print(7>4 or 6>7)# true\n",
        "print(False or True)\n",
        "print(8>9 or 7>9)\n",
        "\n",
        "#not means reverse of the actual answer\n",
        "print(not(7>3 and 6>3))#not(true)-> false\n",
        "print(not(7>4 and 6>7))#not(false)-> true\n",
        "\n",
        "isPresent\n",
        "isRegister\n",
        "hasCar\n",
        "hasPhone\n",
        "\n",
        "not isPresent\n",
        "not isRegister\n",
        "\n",
        "first-name-Person\n",
        "first_name_person"
      ],
      "metadata": {
        "colab": {
          "base_uri": "https://localhost:8080/"
        },
        "id": "v8bz9J8GVr6O",
        "outputId": "ceabc2ca-491e-4da5-ccdb-1a24193a63a7"
      },
      "execution_count": 13,
      "outputs": [
        {
          "output_type": "stream",
          "name": "stdout",
          "text": [
            "True\n",
            "False\n",
            "True\n",
            "True\n",
            "True\n",
            "False\n"
          ]
        }
      ]
    },
    {
      "cell_type": "code",
      "source": [
        "# 1+True-> in python true is 1 or nonzero, false means ZeroD\n",
        "print(5>True)\n",
        "print(not 5)\n",
        "print(1<15<10) #1<15 and 15<10"
      ],
      "metadata": {
        "colab": {
          "base_uri": "https://localhost:8080/"
        },
        "id": "MuYLw0UKaJGl",
        "outputId": "b90bc44e-4625-4af7-ac79-3af9713653cf"
      },
      "execution_count": 18,
      "outputs": [
        {
          "output_type": "stream",
          "name": "stdout",
          "text": [
            "True\n",
            "False\n",
            "False\n"
          ]
        }
      ]
    },
    {
      "cell_type": "code",
      "source": [
        "# expression will have some output\n",
        "result=(10+20)*30/2-7;#PEMDAS\n",
        "print(result)\n",
        "\n",
        "# 10+600/2-7\n",
        "# 10+300-7\n",
        "# 310-7\n",
        "# 303"
      ],
      "metadata": {
        "colab": {
          "base_uri": "https://localhost:8080/"
        },
        "id": "xVXuHSd9aL1E",
        "outputId": "61a163b5-07d1-4ba6-d438-ebfe4e1d7b90"
      },
      "execution_count": 1,
      "outputs": [
        {
          "output_type": "stream",
          "name": "stdout",
          "text": [
            "443.0\n"
          ]
        }
      ]
    },
    {
      "cell_type": "markdown",
      "source": [
        "**Getting Input from user**"
      ],
      "metadata": {
        "id": "7OLY0_sTXVog"
      }
    },
    {
      "cell_type": "code",
      "source": [
        "username=input(\"enter your name\")\n",
        "print(\"you have entered\",username)"
      ],
      "metadata": {
        "colab": {
          "base_uri": "https://localhost:8080/"
        },
        "id": "XUhXHK5QXSn8",
        "outputId": "1cbca193-fab3-4a98-c0e6-d98eea9e04a8"
      },
      "execution_count": 4,
      "outputs": [
        {
          "output_type": "stream",
          "name": "stdout",
          "text": [
            "enter your nameDinesh\n",
            "you have entered Dinesh\n"
          ]
        }
      ]
    },
    {
      "cell_type": "code",
      "source": [
        "number=input(\"enter a number\") #20\n",
        "number=int(number) #convert the string number into integer number\n",
        "print(\"type of the number is\",type(number))#int\n",
        "number=number+3 # will add 3 + value of the number\n",
        "print(\"final\",number)\n",
        "\n",
        "\n"
      ],
      "metadata": {
        "colab": {
          "base_uri": "https://localhost:8080/"
        },
        "id": "QCMQ5BBuXfxs",
        "outputId": "656a38d9-115c-47ad-c5b1-96ba078296e2"
      },
      "execution_count": 9,
      "outputs": [
        {
          "output_type": "stream",
          "name": "stdout",
          "text": [
            "enter a number34\n",
            "type of the number is <class 'int'>\n",
            "final 37\n"
          ]
        }
      ]
    },
    {
      "cell_type": "code",
      "source": [
        "# Find a simple interest\n",
        "# 1. principal( get from user)\n",
        "# 2. interest 10.4%\n",
        "# 3. Rate of Interest 24 months\n"
      ],
      "metadata": {
        "id": "ctSKITuoZHoU"
      },
      "execution_count": 1,
      "outputs": []
    },
    {
      "cell_type": "markdown",
      "source": [
        "Conditional Statements"
      ],
      "metadata": {
        "id": "r02ZK1pwhuN4"
      }
    },
    {
      "cell_type": "code",
      "source": [
        "age=19\n",
        "if(age>18):# executes only for True statements\n",
        "  print(\"You are eligible to vote\")\n",
        "else:#will execute for false statment only\n",
        "  print(\"You are not eligible to vote\")"
      ],
      "metadata": {
        "colab": {
          "base_uri": "https://localhost:8080/"
        },
        "id": "2WEQXRHchtp5",
        "outputId": "eecd8525-26da-4075-a045-af7140308c45"
      },
      "execution_count": 3,
      "outputs": [
        {
          "output_type": "stream",
          "name": "stdout",
          "text": [
            "You are eligible to vote\n"
          ]
        }
      ]
    },
    {
      "cell_type": "code",
      "source": [
        "number=int(input(\"Enter a number\"))\n",
        "if(number>0):\n",
        "  print(\"Number is positive\")\n",
        "elif(number<0):\n",
        "  print(\"Number is negative\")\n",
        "else:\n",
        "  print(\"Number is zero\")"
      ],
      "metadata": {
        "colab": {
          "base_uri": "https://localhost:8080/"
        },
        "id": "sm9-KJheibMG",
        "outputId": "4348368f-7c1f-4613-ac5a-4f0cd60469cc"
      },
      "execution_count": 6,
      "outputs": [
        {
          "output_type": "stream",
          "name": "stdout",
          "text": [
            "Enter a number-9\n",
            "Number is negative\n"
          ]
        }
      ]
    },
    {
      "cell_type": "code",
      "source": [
        "#Any non zero value is true\n",
        "\n",
        "if(-10):\n",
        "  print(\"True\")\n",
        "else:\n",
        "  print(\"False\")\n",
        "\n",
        "\n",
        "if(0):\n",
        "  print(\"True\")\n",
        "else:\n",
        "  print(\"False\")"
      ],
      "metadata": {
        "colab": {
          "base_uri": "https://localhost:8080/"
        },
        "id": "hQWYbNWJjSFY",
        "outputId": "cb3a861e-67d9-466e-c410-5485f80f0da2"
      },
      "execution_count": 10,
      "outputs": [
        {
          "output_type": "stream",
          "name": "stdout",
          "text": [
            "True\n",
            "False\n"
          ]
        }
      ]
    },
    {
      "cell_type": "code",
      "source": [
        "#loops- will execute until it reaches the last element or condition fails\n",
        "\n",
        "#for loop is definite\n",
        "for i in [1,2,3,4,5]:\n",
        "  print(i,i*i,sep='-',end=' ') #1-1 2-4 3-9 4-16 5-25\n",
        "print(\"\\n\")\n",
        "for i in \"Good Morning\":\n",
        "  print(i,end=' ')"
      ],
      "metadata": {
        "colab": {
          "base_uri": "https://localhost:8080/"
        },
        "id": "ZXEPQFhWkF5a",
        "outputId": "7de50840-a63a-426a-babe-ca09a9ff21c5"
      },
      "execution_count": 22,
      "outputs": [
        {
          "output_type": "stream",
          "name": "stdout",
          "text": [
            "1-1\t2-4\t3-9\t4-16\t5-25\t\n",
            "\n",
            "G o o d   M o r n i n g "
          ]
        }
      ]
    },
    {
      "cell_type": "code",
      "source": [
        "lst=[11,22,33,44,55]\n",
        "print(lst[1])#22\n",
        "print(lst[2])#33\n",
        "# index0, 1 ,2 ,3 ,4\n",
        "idx=0\n",
        "print('inside while loop')\n",
        "while(idx<len(lst)):\n",
        "  print(lst[idx])\n",
        "  idx+=1#idx will be taken to next value\n",
        "print('print in reverse')\n",
        "idx=len(lst)-1\n",
        "while(idx>=0):\n",
        "  print(lst[idx])\n",
        "  idx-=1#idx will be taken to next value\n",
        "\n"
      ],
      "metadata": {
        "colab": {
          "base_uri": "https://localhost:8080/"
        },
        "id": "UvR0bqPLkkpy",
        "outputId": "07f2704a-9fd9-4fb7-d544-da88d0e7e697"
      },
      "execution_count": 25,
      "outputs": [
        {
          "output_type": "stream",
          "name": "stdout",
          "text": [
            "22\n",
            "33\n",
            "inside while loop\n",
            "11\n",
            "22\n",
            "33\n",
            "44\n",
            "55\n",
            "print in reverse\n",
            "55\n",
            "44\n",
            "33\n",
            "22\n",
            "11\n"
          ]
        }
      ]
    },
    {
      "cell_type": "code",
      "source": [
        "print(list(range(5)))# 0-4\n",
        "print(list(range(1,5)))# 1-4\n",
        "print(list(range(10,30,2)))# 2 is the step value"
      ],
      "metadata": {
        "colab": {
          "base_uri": "https://localhost:8080/"
        },
        "id": "Bq0nagFTpMyp",
        "outputId": "3ad00a88-e9f8-41d2-db77-165c69a49d07"
      },
      "execution_count": 29,
      "outputs": [
        {
          "output_type": "stream",
          "name": "stdout",
          "text": [
            "[0, 1, 2, 3, 4]\n",
            "[1, 2, 3, 4]\n",
            "[10, 12, 14, 16, 18, 20, 22, 24, 26, 28]\n"
          ]
        }
      ]
    },
    {
      "cell_type": "code",
      "source": [],
      "metadata": {
        "id": "9bDypZ8TpR1h"
      },
      "execution_count": null,
      "outputs": []
    }
  ]
}